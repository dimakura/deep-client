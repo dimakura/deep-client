{
 "cells": [
  {
   "cell_type": "markdown",
   "metadata": {},
   "source": [
    "# Intro to PyTorch"
   ]
  },
  {
   "cell_type": "markdown",
   "metadata": {},
   "source": [
    "Basics of PyTorch and implementing basic DL algorithms by hand.\n",
    "\n",
    "For simlicity we can use MNIST dataset here.\n",
    "\n",
    "1. PyTorch as a tensor library: http://pytorch.org/tutorials/beginner/deep_learning_60min_blitz.html\n",
    "2. Implement backpropagation with PyTorch;\n",
    "3. Using momentum;\n",
    "4. Using Adam;"
   ]
  }
 ],
 "metadata": {
  "kernelspec": {
   "display_name": "Python 3",
   "language": "python",
   "name": "python3"
  },
  "language_info": {
   "codemirror_mode": {
    "name": "ipython",
    "version": 3
   },
   "file_extension": ".py",
   "mimetype": "text/x-python",
   "name": "python",
   "nbconvert_exporter": "python",
   "pygments_lexer": "ipython3",
   "version": "3.6.2"
  }
 },
 "nbformat": 4,
 "nbformat_minor": 2
}

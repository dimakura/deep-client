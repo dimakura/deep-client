{
 "cells": [
  {
   "cell_type": "markdown",
   "metadata": {},
   "source": [
    "# Demo: Dogs vs Cats"
   ]
  },
  {
   "cell_type": "markdown",
   "metadata": {},
   "source": [
    "![Dogs vs Cats](https://kaggle2.blob.core.windows.net/competitions/kaggle/3362/media/woof_meow.jpg)\n",
    "\n",
    "Do-for-fun kind of competition: https://www.kaggle.com/c/dogs-vs-cats"
   ]
  },
  {
   "cell_type": "markdown",
   "metadata": {},
   "source": [
    "## Data preparation steps\n",
    "\n",
    "\n",
    "### Config kaggle client\n",
    "\n",
    "https://github.com/floydwch/kaggle-cli\n",
    "\n",
    "```shell\n",
    "pip install kaggle-cli\n",
    "kg -u '<username>' -p '<password>' -c 'dogs-vs-cats'\n",
    "```\n",
    "\n",
    "### Get data\n",
    "\n",
    "```shell\n",
    "mkdir -p data/\n",
    "cd data/\n",
    "kg download -f train.zip\n",
    "kg download -f test1.zip\n",
    "unzip -q train.zip\n",
    "unzip -q test1.zip\n",
    "\n",
    "# make sure we've got 12500 cats and dogs\n",
    "find . -type f -name 'cat*' | wc -l\n",
    "find . -type f -name 'dog*' | wc -l\n",
    "```\n",
    "\n",
    "### Prepare files\n",
    "\n",
    "Rename create some useful dirs:\n",
    "\n",
    "```shell\n",
    "mv test1/ test\n",
    "mv train/ catdog\n",
    "mkdir -p train/dog\n",
    "mkdir -p train/cat\n",
    "mkdir -p val/dog\n",
    "mkdir -p val/cat\n",
    "mkdir -p sample/train/cat\n",
    "mkdir -p sample/train/dog\n",
    "mkdir -p sample/val/cat\n",
    "mkdir -p sample/val/dog\n",
    "```\n",
    "\n",
    "Cats:\n",
    "\n",
    "```shell\n",
    "find . -name \"cat*\" -type f | shuf -n11250 | xargs -I file mv file train/cat/\n",
    "mv catdog/cat* val/cat/\n",
    "find . -name \"cat*\" -type f | shuf -n10 | xargs -I file cp file sample/train/cat/\n",
    "find . -name \"cat*\" -type f | shuf -n5 | xargs -I file cp file sample/val/cat/\n",
    "```\n",
    "\n",
    "Dogs:\n",
    "\n",
    "```shell\n",
    "find . -name \"dog*\" -type f | shuf -n11250 | xargs -I file mv file train/dog/\n",
    "mv catdog/dog* val/dog/\n",
    "find . -name \"dog*\" -type f | shuf -n10 | xargs -I file cp file sample/train/dog/\n",
    "find . -name \"dog*\" -type f | shuf -n5 | xargs -I file cp file sample/val/dog/\n",
    "```\n",
    "\n",
    "Cleanup:\n",
    "\n",
    "```shell\n",
    "rm -rf catdog/\n",
    "rm test1.zip\n",
    "rm train.zip\n",
    "cd ../\n",
    "```\n",
    "\n",
    "Verify data:\n",
    "\n",
    "```shell\n",
    "ls data/train/cat/*.jpg | wc -l # 11250\n",
    "ls data/train/dog/*.jpg | wc -l # 11250\n",
    "ls data/val/cat/*.jpg | wc -l # 1250\n",
    "ls data/val/dog/*.jpg | wc -l # 1250\n",
    "```"
   ]
  },
  {
   "cell_type": "code",
   "execution_count": 51,
   "metadata": {},
   "outputs": [],
   "source": [
    "import os\n",
    "import torch.utils.data as data\n",
    "import torchvision.datasets as datasets\n",
    "import torchvision.models as models\n",
    "import torchvision.transforms as transforms\n",
    "import torch.nn as nn\n",
    "import torch.optim as optim\n",
    "from torchvision import models\n",
    "import time"
   ]
  },
  {
   "cell_type": "code",
   "execution_count": 34,
   "metadata": {},
   "outputs": [],
   "source": [
    "data_dir = '../data/sample'\n",
    "batch_size = 64\n",
    "traindir = os.path.join(data_dir, 'train')\n",
    "valdir = os.path.join(data_dir, 'val')"
   ]
  },
  {
   "cell_type": "code",
   "execution_count": 35,
   "metadata": {},
   "outputs": [],
   "source": [
    "normalize = transforms.Normalize(mean=[0.485, 0.456, 0.406], std=[0.229, 0.224, 0.225])"
   ]
  },
  {
   "cell_type": "code",
   "execution_count": 36,
   "metadata": {},
   "outputs": [],
   "source": [
    "train_loader = data.DataLoader(\n",
    "        datasets.ImageFolder(traindir,\n",
    "                             transforms.Compose([\n",
    "                                 transforms.RandomSizedCrop(224),\n",
    "                                 transforms.RandomHorizontalFlip(),\n",
    "                                 transforms.ToTensor(),\n",
    "                                 normalize\n",
    "                             ])),\n",
    "        batch_size=batch_size,\n",
    "        shuffle=True,\n",
    "        num_workers=4)\n",
    "\n",
    "val_loader = data.DataLoader(\n",
    "        datasets.ImageFolder(valdir,\n",
    "                             transforms.Compose([\n",
    "                                 transforms.Scale(256),\n",
    "                                 transforms.CenterCrop(224),\n",
    "                                 transforms.ToTensor(),\n",
    "                                 normalize,\n",
    "                             ])),\n",
    "        batch_size=batch_size,\n",
    "        shuffle=True,\n",
    "        num_workers=4)"
   ]
  },
  {
   "cell_type": "code",
   "execution_count": 37,
   "metadata": {},
   "outputs": [],
   "source": [
    "# ds = train_loader.dataset\n",
    "# print(len(ds.imgs))\n",
    "# ds.loader(ds.imgs[0][0])"
   ]
  },
  {
   "cell_type": "code",
   "execution_count": 38,
   "metadata": {},
   "outputs": [],
   "source": [
    "net = models.vgg16(pretrained=True)"
   ]
  },
  {
   "cell_type": "code",
   "execution_count": 39,
   "metadata": {},
   "outputs": [],
   "source": [
    "net.classifier = nn.Sequential(\n",
    "    nn.Linear(25088, 4096),\n",
    "    nn.ReLU(inplace=True),\n",
    "    nn.Dropout(p=0.5),\n",
    "    nn.Linear(4096, 4096),\n",
    "    nn.ReLU(inplace=True),\n",
    "    nn.Dropout(p=0.5),\n",
    "    nn.Linear(4096, 2)\n",
    ")"
   ]
  },
  {
   "cell_type": "code",
   "execution_count": 40,
   "metadata": {},
   "outputs": [],
   "source": [
    "criterion = nn.CrossEntropyLoss()\n",
    "optimizer = optim.Adam(net.classifier.parameters(), 0.001, weight_decay=0.0001)"
   ]
  },
  {
   "cell_type": "code",
   "execution_count": 49,
   "metadata": {},
   "outputs": [],
   "source": [
    "def train(train_loader, model, criterion, optimizer, epoch):\n",
    "    batch_time = AverageMeter()\n",
    "    data_time = AverageMeter()\n",
    "    losses = AverageMeter()\n",
    "    acc = AverageMeter()\n",
    "\n",
    "    model.train()\n",
    "    end = time.time()\n"
   ]
  },
  {
   "cell_type": "code",
   "execution_count": 52,
   "metadata": {},
   "outputs": [
    {
     "name": "stdout",
     "output_type": "stream",
     "text": [
      "0\n",
      "1\n",
      "2\n"
     ]
    }
   ],
   "source": [
    "for epoch in range(0, 3):\n",
    "    print(epoch)\n",
    "    train(train_loader, net, criterion, optimizer, epoch)\n",
    "    for i, (images, target) in enumerate(train_loader):"
   ]
  },
  {
   "cell_type": "code",
   "execution_count": 41,
   "metadata": {},
   "outputs": [],
   "source": [
    "class AverageMeter(object):\n",
    "    def __init__(self):\n",
    "        self.reset()\n",
    "\n",
    "    def reset(self):\n",
    "        self.val = 0\n",
    "        self.avg = 0\n",
    "        self.sum = 0\n",
    "        self.count = 0\n",
    "\n",
    "    def update(self, val, n=1):\n",
    "        self.val = val\n",
    "        self.sum += val * n\n",
    "        self.count += n\n",
    "        self.avg = self.sum / self.count"
   ]
  }
 ],
 "metadata": {
  "kernelspec": {
   "display_name": "Python 3",
   "language": "python",
   "name": "python3"
  },
  "language_info": {
   "codemirror_mode": {
    "name": "ipython",
    "version": 3
   },
   "file_extension": ".py",
   "mimetype": "text/x-python",
   "name": "python",
   "nbconvert_exporter": "python",
   "pygments_lexer": "ipython3",
   "version": "3.6.3"
  }
 },
 "nbformat": 4,
 "nbformat_minor": 2
}

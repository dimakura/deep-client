{
 "cells": [
  {
   "cell_type": "markdown",
   "metadata": {},
   "source": [
    "# PyTorch basics"
   ]
  },
  {
   "cell_type": "code",
   "execution_count": 1,
   "metadata": {},
   "outputs": [],
   "source": [
    "import torch\n",
    "import numpy as np"
   ]
  },
  {
   "cell_type": "markdown",
   "metadata": {},
   "source": [
    "* PyTorch can be used for numeric calculations instead of numpy\n",
    "* Unlike numpy PyTorch is optimized for use with GPU\n",
    "* Unlike numpy PyTorch is more specialized for deep learning\n",
    "* Torch was a predecessor of PyTorch (core in C, interface in Lua)\n",
    "* PyTorch forked Torch core few years ago "
   ]
  },
  {
   "cell_type": "markdown",
   "metadata": {},
   "source": [
    "## 1. Tensors\n",
    "\n",
    "PyTorch allows us easily create tensors (multidimensional matrices) and do basic operations on them:"
   ]
  },
  {
   "cell_type": "code",
   "execution_count": 22,
   "metadata": {},
   "outputs": [
    {
     "name": "stdout",
     "output_type": "stream",
     "text": [
      "\n",
      " 0.3745  0.7965  0.9507\n",
      " 0.1834  0.7320  0.7797\n",
      " 0.5987  0.5969  0.1560\n",
      "[torch.FloatTensor of size 3x3]\n",
      " \n",
      " 0.4458  0.1560  0.1000\n",
      " 0.0581  0.4592  0.8662\n",
      " 0.3337  0.6011  0.1429\n",
      "[torch.FloatTensor of size 3x3]\n",
      "\n"
     ]
    }
   ],
   "source": [
    "torch.manual_seed(seed=42)\n",
    "x = torch.rand(3, 3)\n",
    "y = torch.rand(3, 3)\n",
    "print(x, y)"
   ]
  },
  {
   "cell_type": "code",
   "execution_count": 42,
   "metadata": {},
   "outputs": [
    {
     "data": {
      "text/plain": [
       "\n",
       " 0.9732  1.3934\n",
       " 1.1067  0.6293\n",
       " 0.8880  0.8797\n",
       "[torch.FloatTensor of size 3x2]"
      ]
     },
     "execution_count": 42,
     "metadata": {},
     "output_type": "execute_result"
    }
   ],
   "source": [
    "x+y"
   ]
  },
  {
   "cell_type": "markdown",
   "metadata": {},
   "source": [
    "**TODO**: Try different operators on `x` and `y`\n",
    "\n",
    "* `x + y`\n",
    "* `x - y`\n",
    "* `x * y`\n",
    "* `x.matmul(y)`\n",
    "* `x.add(y)`\n",
    "* `x.mul(y)`\n",
    "* `torch.add(x, y)`"
   ]
  },
  {
   "cell_type": "markdown",
   "metadata": {},
   "source": [
    "For performance reasons you might want to do some operations in-place.\n",
    "\n",
    "Usually operators come in pairs, e.g. `add`, `add_` -- the one with `_` suffix is the mutating operator:"
   ]
  },
  {
   "cell_type": "code",
   "execution_count": 3,
   "metadata": {},
   "outputs": [],
   "source": [
    "x = torch.rand(2, 2)\n",
    "y = torch.rand(2, 2)"
   ]
  },
  {
   "cell_type": "markdown",
   "metadata": {},
   "source": [
    "**TODO**: try mutating operators\n",
    "\n",
    "* `add_`\n",
    "* `sub_`\n",
    "* `mul_`"
   ]
  },
  {
   "cell_type": "markdown",
   "metadata": {},
   "source": [
    "**Quiz**: There is no `matmul_` method. Why?"
   ]
  },
  {
   "cell_type": "markdown",
   "metadata": {},
   "source": [
    "We can do calculation on GPU:"
   ]
  },
  {
   "cell_type": "code",
   "execution_count": 54,
   "metadata": {},
   "outputs": [],
   "source": [
    "if torch.cuda.is_available():\n",
    "    x = x.cuda()\n",
    "    y = y.cuda()\n",
    "    x + y\n",
    "else:\n",
    "    print(\"CUDA not available\")"
   ]
  },
  {
   "cell_type": "markdown",
   "metadata": {},
   "source": [
    "## 2. Differentiation"
   ]
  },
  {
   "cell_type": "markdown",
   "metadata": {},
   "source": [
    "`torch.autograd.Variable` is a wrapper around `torch.Tensor` with support for differentiation:\n",
    "\n",
    "![Variable](../images/Variable.png)\n",
    "\n",
    "`Variable` has the same methods as `Tensor` and some additional ones:\n",
    "\n",
    "* `backward()` to calculate gradients\n",
    "* `grad_fn` differentiation function (`Function` or `None`)\n",
    "* `grad` gradient value"
   ]
  },
  {
   "cell_type": "code",
   "execution_count": 5,
   "metadata": {},
   "outputs": [],
   "source": [
    "from torch.autograd import Variable"
   ]
  },
  {
   "cell_type": "code",
   "execution_count": 6,
   "metadata": {},
   "outputs": [],
   "source": [
    "t = torch.rand(2, 2)\n",
    "x = Variable(t, requires_grad=True)\n",
    "y = torch.log(x * x)\n",
    "z = y.sum()"
   ]
  },
  {
   "cell_type": "code",
   "execution_count": 7,
   "metadata": {},
   "outputs": [],
   "source": [
    "z.backward()"
   ]
  },
  {
   "cell_type": "code",
   "execution_count": 8,
   "metadata": {},
   "outputs": [
    {
     "name": "stdout",
     "output_type": "stream",
     "text": [
      "<torch.autograd.function.LogBackward object at 0x10a722048>\n",
      "<torch.autograd.function.SumBackward object at 0x10a722138>\n"
     ]
    }
   ],
   "source": [
    "print(y.grad_fn)\n",
    "print(z.grad_fn)"
   ]
  },
  {
   "cell_type": "code",
   "execution_count": 9,
   "metadata": {},
   "outputs": [
    {
     "name": "stdout",
     "output_type": "stream",
     "text": [
      "\n",
      " 0.6011  0.1429\n",
      " 0.7081  0.6509\n",
      "[torch.FloatTensor of size 2x2]\n",
      "\n",
      "Variable containing:\n",
      "  3.3272  13.9991\n",
      "  2.8246   3.0727\n",
      "[torch.FloatTensor of size 2x2]\n",
      "\n"
     ]
    }
   ],
   "source": [
    "print(t)\n",
    "print(x.grad)"
   ]
  },
  {
   "cell_type": "markdown",
   "metadata": {},
   "source": [
    "**Quiz**: Make sure gradients are correct"
   ]
  },
  {
   "cell_type": "code",
   "execution_count": null,
   "metadata": {},
   "outputs": [],
   "source": []
  }
 ],
 "metadata": {
  "kernelspec": {
   "display_name": "Python 3",
   "language": "python",
   "name": "python3"
  },
  "language_info": {
   "codemirror_mode": {
    "name": "ipython",
    "version": 3
   },
   "file_extension": ".py",
   "mimetype": "text/x-python",
   "name": "python",
   "nbconvert_exporter": "python",
   "pygments_lexer": "ipython3",
   "version": "3.6.3"
  }
 },
 "nbformat": 4,
 "nbformat_minor": 2
}
